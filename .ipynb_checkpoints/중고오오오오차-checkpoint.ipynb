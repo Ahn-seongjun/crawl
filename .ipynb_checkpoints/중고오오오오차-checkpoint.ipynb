{
 "cells": [
  {
   "cell_type": "code",
   "execution_count": 2,
   "id": "50737edd",
   "metadata": {},
   "outputs": [],
   "source": [
    "#동적 생성되는 data 크롤링\n",
    "#Selenium 모듈 사용\n",
    "import requests\n",
    "from bs4 import BeautifulSoup\n",
    "from urllib.request import urlopen\n",
    "import selenium\n",
    "from selenium import webdriver"
   ]
  },
  {
   "cell_type": "markdown",
   "id": "0628677b",
   "metadata": {},
   "source": [
    "### 관련 메서드\n",
    "- get(url) : url에 접근하는 메서드\n",
    "    \n",
    "#### 페이지 단일 element에 접근하는 메서드\n",
    "- find_element_by_name('html_name')\n",
    "- find_element_by_id('html_id')\n",
    "- find_element_by_xpath('패스경로') : 스크립트 실행 경로를 찾아 접근\n",
    "    \n",
    "    \n",
    "#### 페이지의 여러 element에 접근하는 메서드\n",
    "- find_element_by_class_selector('html slelctor')\n",
    "- find_element_by_class_name('html_class')\n",
    "- find_element_by_tag_name('htm tag')\n",
    "\n",
    "#### Webdriver 객체 생성\n",
    "- driver = webdriver.Chrome(드라이버경로)\n",
    "\n",
    "#### 접근한 페이지 source 추출\n",
    "- html=diver.page_source"
   ]
  },
  {
   "cell_type": "code",
   "execution_count": 3,
   "id": "b6ff4cff",
   "metadata": {},
   "outputs": [
    {
     "ename": "SessionNotCreatedException",
     "evalue": "Message: session not created: This version of ChromeDriver only supports Chrome version 92\nCurrent browser version is 94.0.4606.71 with binary path C:\\Program Files (x86)\\Google\\Chrome\\Application\\chrome.exe\n",
     "output_type": "error",
     "traceback": [
      "\u001b[1;31m---------------------------------------------------------------------------\u001b[0m",
      "\u001b[1;31mSessionNotCreatedException\u001b[0m                Traceback (most recent call last)",
      "\u001b[1;32m<ipython-input-3-e5bb2bcc39c0>\u001b[0m in \u001b[0;36m<module>\u001b[1;34m\u001b[0m\n\u001b[0;32m      1\u001b[0m \u001b[1;31m# 크롬 드라이버를 통한 네이버 접속\u001b[0m\u001b[1;33m\u001b[0m\u001b[1;33m\u001b[0m\u001b[1;33m\u001b[0m\u001b[0m\n\u001b[0;32m      2\u001b[0m \u001b[1;33m\u001b[0m\u001b[0m\n\u001b[1;32m----> 3\u001b[1;33m \u001b[0mdriver\u001b[0m \u001b[1;33m=\u001b[0m \u001b[0mwebdriver\u001b[0m\u001b[1;33m.\u001b[0m\u001b[0mChrome\u001b[0m\u001b[1;33m(\u001b[0m\u001b[1;34m\"./driver/chromedriver\"\u001b[0m\u001b[1;33m)\u001b[0m\u001b[1;33m\u001b[0m\u001b[1;33m\u001b[0m\u001b[0m\n\u001b[0m\u001b[0;32m      4\u001b[0m \u001b[0mdriver\u001b[0m\u001b[1;33m.\u001b[0m\u001b[0mget\u001b[0m\u001b[1;33m(\u001b[0m\u001b[1;34m\"http://www.m-park.co.kr/buy/my_car_list.asp?gotopage=1&sListOrder=DemoDay_D&sPageSize=40&sSearch=1&sListType=list\"\u001b[0m\u001b[1;33m)\u001b[0m\u001b[1;33m\u001b[0m\u001b[1;33m\u001b[0m\u001b[0m\n",
      "\u001b[1;32m~\\anaconda3\\lib\\site-packages\\selenium\\webdriver\\chrome\\webdriver.py\u001b[0m in \u001b[0;36m__init__\u001b[1;34m(self, executable_path, port, options, service_args, desired_capabilities, service_log_path, chrome_options, keep_alive)\u001b[0m\n\u001b[0;32m     74\u001b[0m \u001b[1;33m\u001b[0m\u001b[0m\n\u001b[0;32m     75\u001b[0m         \u001b[1;32mtry\u001b[0m\u001b[1;33m:\u001b[0m\u001b[1;33m\u001b[0m\u001b[1;33m\u001b[0m\u001b[0m\n\u001b[1;32m---> 76\u001b[1;33m             RemoteWebDriver.__init__(\n\u001b[0m\u001b[0;32m     77\u001b[0m                 \u001b[0mself\u001b[0m\u001b[1;33m,\u001b[0m\u001b[1;33m\u001b[0m\u001b[1;33m\u001b[0m\u001b[0m\n\u001b[0;32m     78\u001b[0m                 command_executor=ChromeRemoteConnection(\n",
      "\u001b[1;32m~\\anaconda3\\lib\\site-packages\\selenium\\webdriver\\remote\\webdriver.py\u001b[0m in \u001b[0;36m__init__\u001b[1;34m(self, command_executor, desired_capabilities, browser_profile, proxy, keep_alive, file_detector, options)\u001b[0m\n\u001b[0;32m    155\u001b[0m             warnings.warn(\"Please use FirefoxOptions to set browser profile\",\n\u001b[0;32m    156\u001b[0m                           DeprecationWarning, stacklevel=2)\n\u001b[1;32m--> 157\u001b[1;33m         \u001b[0mself\u001b[0m\u001b[1;33m.\u001b[0m\u001b[0mstart_session\u001b[0m\u001b[1;33m(\u001b[0m\u001b[0mcapabilities\u001b[0m\u001b[1;33m,\u001b[0m \u001b[0mbrowser_profile\u001b[0m\u001b[1;33m)\u001b[0m\u001b[1;33m\u001b[0m\u001b[1;33m\u001b[0m\u001b[0m\n\u001b[0m\u001b[0;32m    158\u001b[0m         \u001b[0mself\u001b[0m\u001b[1;33m.\u001b[0m\u001b[0m_switch_to\u001b[0m \u001b[1;33m=\u001b[0m \u001b[0mSwitchTo\u001b[0m\u001b[1;33m(\u001b[0m\u001b[0mself\u001b[0m\u001b[1;33m)\u001b[0m\u001b[1;33m\u001b[0m\u001b[1;33m\u001b[0m\u001b[0m\n\u001b[0;32m    159\u001b[0m         \u001b[0mself\u001b[0m\u001b[1;33m.\u001b[0m\u001b[0m_mobile\u001b[0m \u001b[1;33m=\u001b[0m \u001b[0mMobile\u001b[0m\u001b[1;33m(\u001b[0m\u001b[0mself\u001b[0m\u001b[1;33m)\u001b[0m\u001b[1;33m\u001b[0m\u001b[1;33m\u001b[0m\u001b[0m\n",
      "\u001b[1;32m~\\anaconda3\\lib\\site-packages\\selenium\\webdriver\\remote\\webdriver.py\u001b[0m in \u001b[0;36mstart_session\u001b[1;34m(self, capabilities, browser_profile)\u001b[0m\n\u001b[0;32m    250\u001b[0m         parameters = {\"capabilities\": w3c_caps,\n\u001b[0;32m    251\u001b[0m                       \"desiredCapabilities\": capabilities}\n\u001b[1;32m--> 252\u001b[1;33m         \u001b[0mresponse\u001b[0m \u001b[1;33m=\u001b[0m \u001b[0mself\u001b[0m\u001b[1;33m.\u001b[0m\u001b[0mexecute\u001b[0m\u001b[1;33m(\u001b[0m\u001b[0mCommand\u001b[0m\u001b[1;33m.\u001b[0m\u001b[0mNEW_SESSION\u001b[0m\u001b[1;33m,\u001b[0m \u001b[0mparameters\u001b[0m\u001b[1;33m)\u001b[0m\u001b[1;33m\u001b[0m\u001b[1;33m\u001b[0m\u001b[0m\n\u001b[0m\u001b[0;32m    253\u001b[0m         \u001b[1;32mif\u001b[0m \u001b[1;34m'sessionId'\u001b[0m \u001b[1;32mnot\u001b[0m \u001b[1;32min\u001b[0m \u001b[0mresponse\u001b[0m\u001b[1;33m:\u001b[0m\u001b[1;33m\u001b[0m\u001b[1;33m\u001b[0m\u001b[0m\n\u001b[0;32m    254\u001b[0m             \u001b[0mresponse\u001b[0m \u001b[1;33m=\u001b[0m \u001b[0mresponse\u001b[0m\u001b[1;33m[\u001b[0m\u001b[1;34m'value'\u001b[0m\u001b[1;33m]\u001b[0m\u001b[1;33m\u001b[0m\u001b[1;33m\u001b[0m\u001b[0m\n",
      "\u001b[1;32m~\\anaconda3\\lib\\site-packages\\selenium\\webdriver\\remote\\webdriver.py\u001b[0m in \u001b[0;36mexecute\u001b[1;34m(self, driver_command, params)\u001b[0m\n\u001b[0;32m    319\u001b[0m         \u001b[0mresponse\u001b[0m \u001b[1;33m=\u001b[0m \u001b[0mself\u001b[0m\u001b[1;33m.\u001b[0m\u001b[0mcommand_executor\u001b[0m\u001b[1;33m.\u001b[0m\u001b[0mexecute\u001b[0m\u001b[1;33m(\u001b[0m\u001b[0mdriver_command\u001b[0m\u001b[1;33m,\u001b[0m \u001b[0mparams\u001b[0m\u001b[1;33m)\u001b[0m\u001b[1;33m\u001b[0m\u001b[1;33m\u001b[0m\u001b[0m\n\u001b[0;32m    320\u001b[0m         \u001b[1;32mif\u001b[0m \u001b[0mresponse\u001b[0m\u001b[1;33m:\u001b[0m\u001b[1;33m\u001b[0m\u001b[1;33m\u001b[0m\u001b[0m\n\u001b[1;32m--> 321\u001b[1;33m             \u001b[0mself\u001b[0m\u001b[1;33m.\u001b[0m\u001b[0merror_handler\u001b[0m\u001b[1;33m.\u001b[0m\u001b[0mcheck_response\u001b[0m\u001b[1;33m(\u001b[0m\u001b[0mresponse\u001b[0m\u001b[1;33m)\u001b[0m\u001b[1;33m\u001b[0m\u001b[1;33m\u001b[0m\u001b[0m\n\u001b[0m\u001b[0;32m    322\u001b[0m             response['value'] = self._unwrap_value(\n\u001b[0;32m    323\u001b[0m                 response.get('value', None))\n",
      "\u001b[1;32m~\\anaconda3\\lib\\site-packages\\selenium\\webdriver\\remote\\errorhandler.py\u001b[0m in \u001b[0;36mcheck_response\u001b[1;34m(self, response)\u001b[0m\n\u001b[0;32m    240\u001b[0m                 \u001b[0malert_text\u001b[0m \u001b[1;33m=\u001b[0m \u001b[0mvalue\u001b[0m\u001b[1;33m[\u001b[0m\u001b[1;34m'alert'\u001b[0m\u001b[1;33m]\u001b[0m\u001b[1;33m.\u001b[0m\u001b[0mget\u001b[0m\u001b[1;33m(\u001b[0m\u001b[1;34m'text'\u001b[0m\u001b[1;33m)\u001b[0m\u001b[1;33m\u001b[0m\u001b[1;33m\u001b[0m\u001b[0m\n\u001b[0;32m    241\u001b[0m             \u001b[1;32mraise\u001b[0m \u001b[0mexception_class\u001b[0m\u001b[1;33m(\u001b[0m\u001b[0mmessage\u001b[0m\u001b[1;33m,\u001b[0m \u001b[0mscreen\u001b[0m\u001b[1;33m,\u001b[0m \u001b[0mstacktrace\u001b[0m\u001b[1;33m,\u001b[0m \u001b[0malert_text\u001b[0m\u001b[1;33m)\u001b[0m\u001b[1;33m\u001b[0m\u001b[1;33m\u001b[0m\u001b[0m\n\u001b[1;32m--> 242\u001b[1;33m         \u001b[1;32mraise\u001b[0m \u001b[0mexception_class\u001b[0m\u001b[1;33m(\u001b[0m\u001b[0mmessage\u001b[0m\u001b[1;33m,\u001b[0m \u001b[0mscreen\u001b[0m\u001b[1;33m,\u001b[0m \u001b[0mstacktrace\u001b[0m\u001b[1;33m)\u001b[0m\u001b[1;33m\u001b[0m\u001b[1;33m\u001b[0m\u001b[0m\n\u001b[0m\u001b[0;32m    243\u001b[0m \u001b[1;33m\u001b[0m\u001b[0m\n\u001b[0;32m    244\u001b[0m     \u001b[1;32mdef\u001b[0m \u001b[0m_value_or_default\u001b[0m\u001b[1;33m(\u001b[0m\u001b[0mself\u001b[0m\u001b[1;33m,\u001b[0m \u001b[0mobj\u001b[0m\u001b[1;33m,\u001b[0m \u001b[0mkey\u001b[0m\u001b[1;33m,\u001b[0m \u001b[0mdefault\u001b[0m\u001b[1;33m)\u001b[0m\u001b[1;33m:\u001b[0m\u001b[1;33m\u001b[0m\u001b[1;33m\u001b[0m\u001b[0m\n",
      "\u001b[1;31mSessionNotCreatedException\u001b[0m: Message: session not created: This version of ChromeDriver only supports Chrome version 92\nCurrent browser version is 94.0.4606.71 with binary path C:\\Program Files (x86)\\Google\\Chrome\\Application\\chrome.exe\n"
     ]
    }
   ],
   "source": [
    "# 크롬 드라이버를 통한 네이버 접속\n",
    "\n",
    "driver = webdriver.Chrome(\"./driver/chromedriver\")\n",
    "driver.get(\"http://www.m-park.co.kr/buy/my_car_list.asp?gotopage=1&sListOrder=DemoDay_D&sPageSize=40&sSearch=1&sListType=list\")"
   ]
  },
  {
   "cell_type": "code",
   "execution_count": 48,
   "id": "66fa4456",
   "metadata": {
    "collapsed": true
   },
   "outputs": [
    {
     "ename": "WebDriverException",
     "evalue": "Message: chrome not reachable\n  (Session info: chrome=92.0.4515.131)\n",
     "output_type": "error",
     "traceback": [
      "\u001b[1;31m---------------------------------------------------------------------------\u001b[0m",
      "\u001b[1;31mWebDriverException\u001b[0m                        Traceback (most recent call last)",
      "\u001b[1;32m<ipython-input-48-7b1fd3841aad>\u001b[0m in \u001b[0;36m<module>\u001b[1;34m\u001b[0m\n\u001b[1;32m----> 1\u001b[1;33m \u001b[0mdriver\u001b[0m\u001b[1;33m.\u001b[0m\u001b[0mpage_source\u001b[0m\u001b[1;33m\u001b[0m\u001b[1;33m\u001b[0m\u001b[0m\n\u001b[0m",
      "\u001b[1;32m~\\anaconda3\\lib\\site-packages\\selenium\\webdriver\\remote\\webdriver.py\u001b[0m in \u001b[0;36mpage_source\u001b[1;34m(self)\u001b[0m\n\u001b[0;32m    677\u001b[0m             \u001b[0mdriver\u001b[0m\u001b[1;33m.\u001b[0m\u001b[0mpage_source\u001b[0m\u001b[1;33m\u001b[0m\u001b[1;33m\u001b[0m\u001b[0m\n\u001b[0;32m    678\u001b[0m         \"\"\"\n\u001b[1;32m--> 679\u001b[1;33m         \u001b[1;32mreturn\u001b[0m \u001b[0mself\u001b[0m\u001b[1;33m.\u001b[0m\u001b[0mexecute\u001b[0m\u001b[1;33m(\u001b[0m\u001b[0mCommand\u001b[0m\u001b[1;33m.\u001b[0m\u001b[0mGET_PAGE_SOURCE\u001b[0m\u001b[1;33m)\u001b[0m\u001b[1;33m[\u001b[0m\u001b[1;34m'value'\u001b[0m\u001b[1;33m]\u001b[0m\u001b[1;33m\u001b[0m\u001b[1;33m\u001b[0m\u001b[0m\n\u001b[0m\u001b[0;32m    680\u001b[0m \u001b[1;33m\u001b[0m\u001b[0m\n\u001b[0;32m    681\u001b[0m     \u001b[1;32mdef\u001b[0m \u001b[0mclose\u001b[0m\u001b[1;33m(\u001b[0m\u001b[0mself\u001b[0m\u001b[1;33m)\u001b[0m\u001b[1;33m:\u001b[0m\u001b[1;33m\u001b[0m\u001b[1;33m\u001b[0m\u001b[0m\n",
      "\u001b[1;32m~\\anaconda3\\lib\\site-packages\\selenium\\webdriver\\remote\\webdriver.py\u001b[0m in \u001b[0;36mexecute\u001b[1;34m(self, driver_command, params)\u001b[0m\n\u001b[0;32m    319\u001b[0m         \u001b[0mresponse\u001b[0m \u001b[1;33m=\u001b[0m \u001b[0mself\u001b[0m\u001b[1;33m.\u001b[0m\u001b[0mcommand_executor\u001b[0m\u001b[1;33m.\u001b[0m\u001b[0mexecute\u001b[0m\u001b[1;33m(\u001b[0m\u001b[0mdriver_command\u001b[0m\u001b[1;33m,\u001b[0m \u001b[0mparams\u001b[0m\u001b[1;33m)\u001b[0m\u001b[1;33m\u001b[0m\u001b[1;33m\u001b[0m\u001b[0m\n\u001b[0;32m    320\u001b[0m         \u001b[1;32mif\u001b[0m \u001b[0mresponse\u001b[0m\u001b[1;33m:\u001b[0m\u001b[1;33m\u001b[0m\u001b[1;33m\u001b[0m\u001b[0m\n\u001b[1;32m--> 321\u001b[1;33m             \u001b[0mself\u001b[0m\u001b[1;33m.\u001b[0m\u001b[0merror_handler\u001b[0m\u001b[1;33m.\u001b[0m\u001b[0mcheck_response\u001b[0m\u001b[1;33m(\u001b[0m\u001b[0mresponse\u001b[0m\u001b[1;33m)\u001b[0m\u001b[1;33m\u001b[0m\u001b[1;33m\u001b[0m\u001b[0m\n\u001b[0m\u001b[0;32m    322\u001b[0m             response['value'] = self._unwrap_value(\n\u001b[0;32m    323\u001b[0m                 response.get('value', None))\n",
      "\u001b[1;32m~\\anaconda3\\lib\\site-packages\\selenium\\webdriver\\remote\\errorhandler.py\u001b[0m in \u001b[0;36mcheck_response\u001b[1;34m(self, response)\u001b[0m\n\u001b[0;32m    240\u001b[0m                 \u001b[0malert_text\u001b[0m \u001b[1;33m=\u001b[0m \u001b[0mvalue\u001b[0m\u001b[1;33m[\u001b[0m\u001b[1;34m'alert'\u001b[0m\u001b[1;33m]\u001b[0m\u001b[1;33m.\u001b[0m\u001b[0mget\u001b[0m\u001b[1;33m(\u001b[0m\u001b[1;34m'text'\u001b[0m\u001b[1;33m)\u001b[0m\u001b[1;33m\u001b[0m\u001b[1;33m\u001b[0m\u001b[0m\n\u001b[0;32m    241\u001b[0m             \u001b[1;32mraise\u001b[0m \u001b[0mexception_class\u001b[0m\u001b[1;33m(\u001b[0m\u001b[0mmessage\u001b[0m\u001b[1;33m,\u001b[0m \u001b[0mscreen\u001b[0m\u001b[1;33m,\u001b[0m \u001b[0mstacktrace\u001b[0m\u001b[1;33m,\u001b[0m \u001b[0malert_text\u001b[0m\u001b[1;33m)\u001b[0m\u001b[1;33m\u001b[0m\u001b[1;33m\u001b[0m\u001b[0m\n\u001b[1;32m--> 242\u001b[1;33m         \u001b[1;32mraise\u001b[0m \u001b[0mexception_class\u001b[0m\u001b[1;33m(\u001b[0m\u001b[0mmessage\u001b[0m\u001b[1;33m,\u001b[0m \u001b[0mscreen\u001b[0m\u001b[1;33m,\u001b[0m \u001b[0mstacktrace\u001b[0m\u001b[1;33m)\u001b[0m\u001b[1;33m\u001b[0m\u001b[1;33m\u001b[0m\u001b[0m\n\u001b[0m\u001b[0;32m    243\u001b[0m \u001b[1;33m\u001b[0m\u001b[0m\n\u001b[0;32m    244\u001b[0m     \u001b[1;32mdef\u001b[0m \u001b[0m_value_or_default\u001b[0m\u001b[1;33m(\u001b[0m\u001b[0mself\u001b[0m\u001b[1;33m,\u001b[0m \u001b[0mobj\u001b[0m\u001b[1;33m,\u001b[0m \u001b[0mkey\u001b[0m\u001b[1;33m,\u001b[0m \u001b[0mdefault\u001b[0m\u001b[1;33m)\u001b[0m\u001b[1;33m:\u001b[0m\u001b[1;33m\u001b[0m\u001b[1;33m\u001b[0m\u001b[0m\n",
      "\u001b[1;31mWebDriverException\u001b[0m: Message: chrome not reachable\n  (Session info: chrome=92.0.4515.131)\n"
     ]
    }
   ],
   "source": [
    "driver.page_source"
   ]
  },
  {
   "cell_type": "code",
   "execution_count": 18,
   "id": "dbbb16cf",
   "metadata": {},
   "outputs": [
    {
     "data": {
      "text/plain": [
       "['803']"
      ]
     },
     "execution_count": 18,
     "metadata": {},
     "output_type": "execute_result"
    }
   ],
   "source": [
    "like_list = driver.find_elements_by_css_selector(\"span.u_likeit_text._count.num\")\n",
    "like_num = [like.text for like in like_list]\n",
    "like_num"
   ]
  },
  {
   "cell_type": "code",
   "execution_count": 19,
   "id": "55ff1d77",
   "metadata": {},
   "outputs": [
    {
     "data": {
      "text/plain": [
       "['465']"
      ]
     },
     "execution_count": 19,
     "metadata": {},
     "output_type": "execute_result"
    }
   ],
   "source": [
    "rep_list = driver.find_elements_by_css_selector(\"span.lo_txt\")\n",
    "rep_num = [rep.text for rep in rep_list]\n",
    "rep_num"
   ]
  },
  {
   "cell_type": "code",
   "execution_count": null,
   "id": "790be5c8",
   "metadata": {},
   "outputs": [],
   "source": [
    "driver = webdriver.Chrome(\"./driver/chromedriver\")\n",
    "driver.get(\"https://news.naver.com//main/read.naver?mode=LSD&mid=shm&sid1=102&oid=001&aid=0012587876\")"
   ]
  },
  {
   "cell_type": "code",
   "execution_count": 46,
   "id": "c4599ff1",
   "metadata": {},
   "outputs": [],
   "source": [
    "# 전달된 뉴스 url의 기사에서 기사제목 기사 입력시간을 반환하는 함수\n",
    "\n",
    "def get_news_sub_info(url):\n",
    "    \n",
    "    # 1. 전달된 url에 접속 후 응답객체 반환\n",
    "    headers = {\"user-Agent\":\n",
    "           \"Mozilla/5.0(Window NT 10.0;Win64;x64) AppleWebKit/537.36 (KHTML,likeGecko) Chrome/87.0.4280.88 Safari/537.36\"}\n",
    "    result = requests.get(url,headers=headers)\n",
    "    # 2. bs4 객체 생성\n",
    "    bs_obj = BeautifulSoup(result.content,\"html.parser\")\n",
    "    \n",
    "    # 3. 필요 데이터 추출\n",
    "    # 기사 제목 추출(태그 객체)\n",
    "    title = bs_obj.find(id='articleTitle')\n",
    "    # 기사 입력 시간 추출(태그 객체)\n",
    "    time = bs_obj.find(\"span\",{\"class\":\"t11\"})\n",
    "    # 기사 내용 추출\n",
    "    content = bs_obj.find(id='articleBodyContents')\n",
    "    # 4.\n",
    "    #time.sleep(2)\n",
    "    #driver = webdriver.Chrome(\"./driver/chromedriver\")\n",
    "    driver.get(url)\n",
    "    driver.page_source\n",
    "    \n",
    "    like_list = driver.find_elements_by_css_selector(\"span.u_likeit_text._count.num\")\n",
    "    like_num = [like.text for like in like_list]\n",
    "    print(like_list)\n",
    "    rep_list = driver.find_elements_by_css_selector(\"span.lo_txt\")\n",
    "    rep_num = [rep.text for rep in rep_list]\n",
    "    print(rep_list)\n",
    "    \n",
    "    # 5. 수집 데이터 dict로 구성 후 반환\n",
    "    dict_sub = {}\n",
    "    dict_sub[\"기사제목\"] = title.text\n",
    "    dict_sub[\"기사 입력 시간\"] = time.text\n",
    "    dict_sub['좋아요 수'] = like_num\n",
    "    dict_sub['댓글 수'] = rep_num\n",
    "    #dict_sub[\"기사 내용\"] = content.text.strip()\n",
    "    \n",
    "    return dict_sub"
   ]
  },
  {
   "cell_type": "code",
   "execution_count": 47,
   "id": "fe8b4cef",
   "metadata": {},
   "outputs": [
    {
     "name": "stdout",
     "output_type": "stream",
     "text": [
      "['https://news.naver.com//main/read.naver?mode=LSD&mid=shm&sid1=102&oid=008&aid=0004628325', 'https://news.naver.com//main/read.naver?mode=LSD&mid=shm&sid1=102&oid=214&aid=0001140740', 'https://news.naver.com//main/read.naver?mode=LSD&mid=shm&sid1=102&oid=437&aid=0000273247', 'https://news.naver.com//main/read.naver?mode=LSD&mid=shm&sid1=102&oid=028&aid=0002555918', 'https://news.naver.com//main/read.naver?mode=LSD&mid=shm&sid1=102&oid=277&aid=0004950775']\n",
      "[<selenium.webdriver.remote.webelement.WebElement (session=\"ff36f92fe378afbf2fc3ea3770050bfc\", element=\"730f4ba0-48e9-44b8-8bfe-8142d44caa23\")>]\n",
      "[<selenium.webdriver.remote.webelement.WebElement (session=\"ff36f92fe378afbf2fc3ea3770050bfc\", element=\"37dddd96-8350-4c60-b756-10e15594b366\")>]\n",
      "{'기사제목': '남친 만나느라 사흘 집 비운 엄마…쓸쓸히 죽어간 3살 딸', '기사 입력 시간': '2021.08.09. 오후 1:35', '좋아요 수': ['21'], '댓글 수': ['']}\n",
      "[<selenium.webdriver.remote.webelement.WebElement (session=\"ff36f92fe378afbf2fc3ea3770050bfc\", element=\"c53ba96a-2ff2-4e4a-8d63-0bfc06459abd\")>]\n",
      "[<selenium.webdriver.remote.webelement.WebElement (session=\"ff36f92fe378afbf2fc3ea3770050bfc\", element=\"92040309-bed4-4fe8-b15a-292fbce4cd96\")>]\n",
      "{'기사제목': \"법무부, 오늘 가석방 심사위…이재용 '주목'\", '기사 입력 시간': '2021.08.09. 오후 12:08', '좋아요 수': ['67'], '댓글 수': ['106']}\n",
      "[<selenium.webdriver.remote.webelement.WebElement (session=\"ff36f92fe378afbf2fc3ea3770050bfc\", element=\"28e2a0b5-cee9-48a0-a5b6-ffcfa2156c07\")>]\n",
      "[<selenium.webdriver.remote.webelement.WebElement (session=\"ff36f92fe378afbf2fc3ea3770050bfc\", element=\"da3fe01e-4d4f-4396-83db-c91d7e33b35a\")>]\n",
      "{'기사제목': '전두환, 사자명예훼손 항소심 출석…왜 입장 바꿨나?', '기사 입력 시간': '2021.08.09. 오전 8:32', '좋아요 수': ['72'], '댓글 수': ['106']}\n",
      "[<selenium.webdriver.remote.webelement.WebElement (session=\"ff36f92fe378afbf2fc3ea3770050bfc\", element=\"f9aa3780-d410-4cd1-b3c9-537e91287c0c\")>]\n",
      "[<selenium.webdriver.remote.webelement.WebElement (session=\"ff36f92fe378afbf2fc3ea3770050bfc\", element=\"66fd2b12-9317-4645-99ec-9d0cf839f091\")>]\n",
      "{'기사제목': '올해도 광복절 ‘대규모 집회’ 예고한 전광훈…경찰청장 “엄정 대응”', '기사 입력 시간': '2021.08.09. 오후 2:08', '좋아요 수': ['44'], '댓글 수': ['62']}\n",
      "[<selenium.webdriver.remote.webelement.WebElement (session=\"ff36f92fe378afbf2fc3ea3770050bfc\", element=\"4c58ac83-db35-454d-8911-70e8bae4e20d\")>]\n",
      "[<selenium.webdriver.remote.webelement.WebElement (session=\"ff36f92fe378afbf2fc3ea3770050bfc\", element=\"14470cf5-961a-46fb-85b2-fc927600a807\")>]\n",
      "{'기사제목': \"오늘부터 8PM '클릭전쟁'…백신 사전예약 10부제, 먹통 해결할까\", '기사 입력 시간': '2021.08.09. 오전 11:33', '좋아요 수': ['43'], '댓글 수': ['']}\n"
     ]
    }
   ],
   "source": [
    "url = \"https://news.naver.com\"\n",
    "headers={\"User-Agent\":\n",
    "             \"Mozilla/5.0(Window NT 10.0;Win64;x64) AppleWebKit/537.36 (KHTML,likeGecko) Chrome/87.0.4280.88 Safari/537.36\"}\n",
    "result = requests.get(url,headers=headers)\n",
    "\n",
    "bs_obj = BeautifulSoup(result.content,\"html.parser\")\n",
    "\n",
    "#ul 태그 추출 : class:hdline_article_list\n",
    "news_list = bs_obj.find(\"ul\",{\"class\":\"hdline_article_list\"})\n",
    "#모든 li 추출\n",
    "lis = news_list.findAll(\"li\")\n",
    "\n",
    "#헤드라인뉴스 link 저장 - list\n",
    "link_list=[]\n",
    "for li in lis :\n",
    "    a_tag = li.find(\"a\")\n",
    "    link_list.append(\"https://news.naver.com/\"+a_tag[\"href\"])\n",
    "print(link_list)\n",
    "\n",
    "driver = webdriver.Chrome(\"./driver/chromedriver\")\n",
    "import time\n",
    "for number in range(len(link_list)) :\n",
    "    res = get_news_sub_info(link_list[number])\n",
    "    print(res)\n",
    "    #time.sleep(2)"
   ]
  },
  {
   "cell_type": "code",
   "execution_count": 38,
   "id": "37a41654",
   "metadata": {},
   "outputs": [
    {
     "name": "stdout",
     "output_type": "stream",
     "text": [
      "{'기사제목': '[속보] 2학기에 3단계까지 전면등교…4단계에도 3분의 1이상', '기사 입력 시간': '2021.08.09. 오후 2:44', '좋아요 수': [], '댓글 수': ['']}\n",
      "{'기사제목': '[시그널] 강성부 \"쌍용차, 전기차 진출 더없이 좋은 요건\"...에디슨모터스 손잡고 참전', '기사 입력 시간': '2021.08.09. 오전 11:48', '좋아요 수': [], '댓글 수': ['']}\n",
      "{'기사제목': '부패한 시신으로 발견된 3살 여아…친모 긴급체포', '기사 입력 시간': '2021.08.09. 오전 11:14', '좋아요 수': [], '댓글 수': ['']}\n",
      "{'기사제목': '생후 2주 아들 살해 친부 징역 25년·친모 징역 7년 선고', '기사 입력 시간': '2021.08.09. 오후 1:17', '좋아요 수': [], '댓글 수': ['']}\n",
      "{'기사제목': '검찰, 지난해 광복절 불법집회 주도 전광훈 불구속 기소', '기사 입력 시간': '2021.08.09. 오전 11:48', '좋아요 수': [], '댓글 수': ['']}\n"
     ]
    }
   ],
   "source": [
    "for number in range(len(link_list)) :\n",
    "    res = get_news_sub_info(link_list[number])\n",
    "    print(res)"
   ]
  },
  {
   "cell_type": "code",
   "execution_count": null,
   "id": "3adda822",
   "metadata": {},
   "outputs": [],
   "source": []
  },
  {
   "cell_type": "code",
   "execution_count": null,
   "id": "be438297",
   "metadata": {},
   "outputs": [],
   "source": [
    "# 크롬 드라이버를 통한 네이버 접속\n",
    "\n",
    "driver = webdriver.Chrome(\"./driver/chromedriver\")\n",
    "driver.get(\"https://news.naver.com//main/read.naver?mode=LSD&mid=shm&sid1=102&oid=001&aid=0012587876\")"
   ]
  },
  {
   "cell_type": "code",
   "execution_count": null,
   "id": "84f8abf4",
   "metadata": {},
   "outputs": [],
   "source": []
  }
 ],
 "metadata": {
  "kernelspec": {
   "display_name": "Python 3",
   "language": "python",
   "name": "python3"
  },
  "language_info": {
   "codemirror_mode": {
    "name": "ipython",
    "version": 3
   },
   "file_extension": ".py",
   "mimetype": "text/x-python",
   "name": "python",
   "nbconvert_exporter": "python",
   "pygments_lexer": "ipython3",
   "version": "3.8.8"
  }
 },
 "nbformat": 4,
 "nbformat_minor": 5
}
