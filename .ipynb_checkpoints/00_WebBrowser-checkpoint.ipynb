{
 "cells": [
  {
   "cell_type": "markdown",
   "id": "fe7a43c2",
   "metadata": {},
   "source": [
    "#### 파이썬 코드를 통해 브라우저 핸들링\n",
    "- 브라우저 열기\n",
    "- 검색어 전송"
   ]
  },
  {
   "cell_type": "code",
   "execution_count": 1,
   "id": "d2cd6d33",
   "metadata": {},
   "outputs": [],
   "source": [
    "# 브라우저 모듈 import\n",
    "import webbrowser;"
   ]
  },
  {
   "cell_type": "code",
   "execution_count": 4,
   "id": "0ea6649c",
   "metadata": {},
   "outputs": [
    {
     "data": {
      "text/plain": [
       "True"
      ]
     },
     "execution_count": 4,
     "metadata": {},
     "output_type": "execute_result"
    }
   ],
   "source": [
    "# 브라우저를 코드로 열기\n",
    "# webbrowser.open(사이트 url)\n",
    "\n",
    "url = 'www.naver.com'\n",
    "webbrowser.open(url)"
   ]
  },
  {
   "cell_type": "markdown",
   "id": "e45ab62c",
   "metadata": {},
   "source": [
    "#### url과 검색어 적용시키기\n",
    "- 검색어 적용하는 법은 각 site마다 상이하므로 site에서 확인 후 작업\n",
    "- ex. https://search.naver.com/search.naver?where=nexearch&sm=top_hty&fbm=1&ie=utf8&query=python\n",
    "- 위 url 분리\n",
    "    - https://search.naver.com/search.naver : 실제 접근해야 할 서버 주소\n",
    "    - ? : 주소와 서버로 전송되는 data의 경계 기호\n",
    "    - where=nexearch&sm=top_hty&fbm=1&ie=utf8&query=python : 클라이언트 측에서 서버로 전송되는 변수와 값\n",
    "        - 변수 = 값 & 변수2 = 값2 &...\n",
    "    - query = 의 값은 사용자가 입력한 검색어를 저장해서 서버로 전송하는 변수(필수변수)"
   ]
  },
  {
   "cell_type": "code",
   "execution_count": 7,
   "id": "8d204e0f",
   "metadata": {},
   "outputs": [
    {
     "data": {
      "text/plain": [
       "True"
      ]
     },
     "execution_count": 7,
     "metadata": {},
     "output_type": "execute_result"
    }
   ],
   "source": [
    "naver_search_url = \"https://search.naver.com/search.naver?query=\"\n",
    "search_word='파이썬'\n",
    "url = naver_search_url + search_word\n",
    "webbrowser.open_new(url)"
   ]
  },
  {
   "cell_type": "code",
   "execution_count": 8,
   "id": "a5694a02",
   "metadata": {},
   "outputs": [
    {
     "data": {
      "text/plain": [
       "True"
      ]
     },
     "execution_count": 8,
     "metadata": {},
     "output_type": "execute_result"
    }
   ],
   "source": [
    "# 구글 site에 검색어 전송\n",
    "google_url = 'https://www.google.com/search?q='\n",
    "search_word='올림픽'\n",
    "url = google_url+search_word\n",
    "webbrowser.open_new(url)"
   ]
  },
  {
   "cell_type": "code",
   "execution_count": 9,
   "id": "87ebde2a",
   "metadata": {},
   "outputs": [],
   "source": [
    "# 여러 url에 접속하기\n",
    "urls = ['www.naver.com', 'www.daum.net', 'www.google.com']\n",
    "\n",
    "for url in urls:\n",
    "    webbrowser.open_new(url)"
   ]
  },
  {
   "cell_type": "code",
   "execution_count": null,
   "id": "9d0c5567",
   "metadata": {},
   "outputs": [],
   "source": []
  },
  {
   "cell_type": "code",
   "execution_count": null,
   "id": "311e00b7",
   "metadata": {},
   "outputs": [],
   "source": []
  },
  {
   "cell_type": "code",
   "execution_count": null,
   "id": "35c04086",
   "metadata": {},
   "outputs": [],
   "source": []
  },
  {
   "cell_type": "code",
   "execution_count": null,
   "id": "e00745fc",
   "metadata": {},
   "outputs": [],
   "source": []
  }
 ],
 "metadata": {
  "kernelspec": {
   "display_name": "Python 3",
   "language": "python",
   "name": "python3"
  },
  "language_info": {
   "codemirror_mode": {
    "name": "ipython",
    "version": 3
   },
   "file_extension": ".py",
   "mimetype": "text/x-python",
   "name": "python",
   "nbconvert_exporter": "python",
   "pygments_lexer": "ipython3",
   "version": "3.8.8"
  }
 },
 "nbformat": 4,
 "nbformat_minor": 5
}
