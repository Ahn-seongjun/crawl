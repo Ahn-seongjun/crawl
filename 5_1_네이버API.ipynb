{
 "cells": [
  {
   "cell_type": "markdown",
   "id": "2c0cd2f1",
   "metadata": {},
   "source": [
    "### 네이버 API 사용\n",
    "\n",
    "- 블로그를 비롯 전문자료까지 호출방법이 동일\n",
    "- blog 검색만 대표로 예제 작성\n",
    "\n",
    "- 네이버 개발자 센터에 개발자 등록\n",
    "    - application 생성(사용 API : 검색)\n",
    "    - client_id와 client_secret 두값을 생성해서 얻어와야 함"
   ]
  },
  {
   "cell_type": "code",
   "execution_count": 3,
   "id": "3921548a",
   "metadata": {},
   "outputs": [],
   "source": [
    "import os, sys, urllib.request"
   ]
  },
  {
   "cell_type": "code",
   "execution_count": 4,
   "id": "ccf9d17d",
   "metadata": {},
   "outputs": [],
   "source": [
    "## id와 key변수에 저장\n",
    "client_id = 'aBXzLN1CfCXL9OXeyuBN'\n",
    "client_secret = 'soqBDQxx48'"
   ]
  },
  {
   "cell_type": "code",
   "execution_count": 5,
   "id": "6ba35063",
   "metadata": {},
   "outputs": [
    {
     "data": {
      "text/plain": [
       "'%EA%B0%95%EB%82%A8%EC%97%AD'"
      ]
     },
     "execution_count": 5,
     "metadata": {},
     "output_type": "execute_result"
    }
   ],
   "source": [
    "## 검색어 설정(utf-8 인코딩)\n",
    "## urllib.parse.quote(한글)\n",
    "enc_text = urllib.parse.quote(\"강남역\")\n",
    "enc_text"
   ]
  },
  {
   "cell_type": "markdown",
   "id": "27d39b92",
   "metadata": {},
   "source": [
    "#### url\n",
    "- 데이터 형태에 따라 2개의 url을 제공\n",
    "- https://openapi.naver.com/v1/search/blog.xml : xml data 반환\n",
    "- https://openapi.naver.com/v1/search/blog.json(.json은 생략할 수 있다) : json 반환"
   ]
  },
  {
   "cell_type": "code",
   "execution_count": 6,
   "id": "5a0f954d",
   "metadata": {},
   "outputs": [],
   "source": [
    "url_base = 'https://openapi.naver.com/v1/search/blog?query=' #query=검색어"
   ]
  },
  {
   "cell_type": "code",
   "execution_count": 7,
   "id": "e12de8da",
   "metadata": {},
   "outputs": [
    {
     "data": {
      "text/plain": [
       "'https://openapi.naver.com/v1/search/blog?query=%EA%B0%95%EB%82%A8%EC%97%AD'"
      ]
     },
     "execution_count": 7,
     "metadata": {},
     "output_type": "execute_result"
    }
   ],
   "source": [
    "url = url_base + enc_text\n",
    "url"
   ]
  },
  {
   "cell_type": "markdown",
   "id": "ae680339",
   "metadata": {},
   "source": [
    "#### header 부착(id, key 전송)\n",
    "- urllib.request.Request(url) : 전송객체 생성\n",
    "- Request.add_header(헤더) : 헤더 부착\n",
    "- request.urlopen(request 객체) : 요청"
   ]
  },
  {
   "cell_type": "code",
   "execution_count": 8,
   "id": "cea15759",
   "metadata": {},
   "outputs": [
    {
     "data": {
      "text/plain": [
       "200"
      ]
     },
     "execution_count": 8,
     "metadata": {},
     "output_type": "execute_result"
    }
   ],
   "source": [
    "request = urllib.request.Request(url)\n",
    "# 헤더 추가\n",
    "request.add_header(\"X-Naver-Client-Id\",client_id)\n",
    "request.add_header(\"X-Naver-Client-Secret\",client_secret)\n",
    "\n",
    "# 요청 후 응답\n",
    "response = urllib.request.urlopen(request)\n",
    "\n",
    "# 서버가 전송한 응답코드 확인\n",
    "rescode = response.getcode()\n",
    "rescode"
   ]
  },
  {
   "cell_type": "code",
   "execution_count": 9,
   "id": "4cfb8bbc",
   "metadata": {},
   "outputs": [
    {
     "name": "stdout",
     "output_type": "stream",
     "text": [
      "{\n",
      "\"lastBuildDate\": \"Mon, 09 Aug 2021 10:56:56 +0900\",\n",
      "\"total\": 1741955,\n",
      "\"start\": 1,\n",
      "\"display\": 10,\n",
      "\"items\": [\n",
      "{\n",
      "\"title\": \"<b>강남역</b> 데이트 맛집, 마마램\",\n",
      "\"link\": \"https:\\/\\/blog.naver.com\\/scoroom?Redirect=Log&logNo=222456820669\",\n",
      "\"description\": \"캠핑장에서 돌아오고 남은 몇일의 여유를 즐기를 위해서 출동했다^^ <b>강남역</b> 데이트, 마마램 서울 강남구 도산대로 62길 11 (02-543-5310) 이번 캠핑에 양고기는 준비하지 않기도 했고, 양고기는 무엇보다 방문해서... \",\n",
      "\"bloggername\": \"Sweet Cozy Room\",\n",
      "\"bloggerlink\": \"https://blog.naver.com/scoroom\",\n",
      "\"postdate\": \"20210804\"\n",
      "\n",
      "},\n",
      "{\n",
      "\"title\": \"재미가 있는 <b>강남역</b> 맛집 공유\",\n",
      "\"link\": \"https:\\/\\/blog.naver.com\\/jung111hee?Redirect=Log&logNo=222455247595\",\n",
      "\"description\": \"감성타코 <b>강남역</b>점 감성그릴파히타 38000원 위치 : 서울 강남구 강남대로 406 지하1층 문의 : 02-565-8830 영업 : 11:30 - 22:00 마지막주문 21:00 제가 다녀온 감성타코는 <b>강남역</b>11번출구 바로 앞에 위치해있어요.... \",\n",
      "\"bloggername\": \"맛집멋집\",\n",
      "\"bloggerlink\": \"https://blog.naver.com/jung111hee\",\n",
      "\"postdate\": \"20210803\"\n",
      "\n",
      "},\n",
      "{\n",
      "\"title\": \"<b>강남역</b> 스테이크 분위기 좋은 미도인\",\n",
      "\"link\": \"https:\\/\\/blog.naver.com\\/tw01554?Redirect=Log&logNo=222459401543\",\n",
      "\"description\": \"<b>강남역</b> 스테이크 찾고 있다면 여기 어떨가 싶네용~ #<b>강남역</b>스테이크 #<b>강남역</b>대창덮밥 #<b>강남역</b>미도인 #미도인 #강남미도인 #미도인강남 #<b>강남역</b>스테이크맛집 #<b>강남역</b>대창덮밥맛집 #<b>강남역</b>가성비맛집... \",\n",
      "\"bloggername\": \"헨2의 daily\",\n",
      "\"bloggerlink\": \"https://blog.naver.com/tw01554\",\n",
      "\"postdate\": \"20210806\"\n",
      "\n",
      "},\n",
      "{\n",
      "\"title\": \"재료가 좋은 삼겹살 <b>강남역</b> 고기집\",\n",
      "\"link\": \"https:\\/\\/blog.naver.com\\/unique1028?Redirect=Log&logNo=222411292448\",\n",
      "\"description\": \"얼마 전 친구들과 모임 중 강남 일대에서 꽤 알아준다는 <b>강남역</b> 고기집에 다녀왔어요. 화로에 구워 육질이 우수한 돈육에 수제냉면까지, 무엇하나 부족함이 없었던 곳이랍니다. 강남구 역삼동 619-14 1층 봉우화로... \",\n",
      "\"bloggername\": \"줄리다이어리♥\",\n",
      "\"bloggerlink\": \"https://blog.naver.com/unique1028\",\n",
      "\"postdate\": \"20210626\"\n",
      "\n",
      "},\n",
      "{\n",
      "\"title\": \"최고였던 <b>강남역</b> 고기집\",\n",
      "\"link\": \"https:\\/\\/blog.naver.com\\/aq9999qa?Redirect=Log&logNo=222406466536\",\n",
      "\"description\": \"주소: 서울 강남구 역삼로3길 8 번호: 02-538-1588 이날 찾았던 고기집은 <b>강남역</b> 4번 출구에서 도보 5분 정도 거리에 위치해 있었는데요. 웅장한 단독건물에 상호가 크게 부착되어져 있어, 왠만해서는 못보고... \",\n",
      "\"bloggername\": \"황혼의엘리제\",\n",
      "\"bloggerlink\": \"https://blog.naver.com/aq9999qa\",\n",
      "\"postdate\": \"20210622\"\n",
      "\n",
      "},\n",
      "{\n",
      "\"title\": \"인정했던 <b>강남역</b> 점심\",\n",
      "\"link\": \"https:\\/\\/blog.naver.com\\/sitelove?Redirect=Log&logNo=222457129201\",\n",
      "\"description\": \"동료가 <b>강남역</b> 점심 장소로 괜찮은 특색 있는 장소를 추천해 줘서 다 같이 다녀올 수 있었어요. 저희가 점심에 방문해서 간단한 반주까지 하고 회사에 복귀하게 만들었던 식당은 반티엔야오 카오위예요. <b>강남역</b>... \",\n",
      "\"bloggername\": \"주관적참견시점\",\n",
      "\"bloggerlink\": \"https://blog.naver.com/sitelove\",\n",
      "\"postdate\": \"20210804\"\n",
      "\n",
      "},\n",
      "{\n",
      "\"title\": \"극찬했던 <b>강남역</b> 돼지갈비 맛집\",\n",
      "\"link\": \"https:\\/\\/blog.naver.com\\/seventhday?Redirect=Log&logNo=222416694910\",\n",
      "\"description\": \"얼마전 친구들과 저녁 약속이 있어서 검색으로 미리 알아둔 <b>강남역</b> 돼지갈비 맛집에서 식사했어요.... 강남 돼지갈비 맛집은 밖에서 구워 가져와 달라고 하면 그렇게 해주신다고 하니 참고하시면 좋을 것... \",\n",
      "\"bloggername\": \"colortrip\",\n",
      "\"bloggerlink\": \"https://blog.naver.com/seventhday\",\n",
      "\"postdate\": \"20210702\"\n",
      "\n",
      "},\n",
      "{\n",
      "\"title\": \"합격점줬던 <b>강남역</b> 고기집\",\n",
      "\"link\": \"https:\\/\\/blog.naver.com\\/miukitchen?Redirect=Log&logNo=222419120284\",\n",
      "\"description\": \"이날 찾아간 강남랭겹은 <b>강남역</b> 11번 출구에서 도보로 10분이 채 걸리지 않았어요. 코너 1층에 크게 걸려있는 삼겹살 사진과 유니크한 외관이라 멀리서도 눈에 확 들어왔네요. 이곳은 인기있는 사이드 메뉴로 구성... \",\n",
      "\"bloggername\": \"초코퐁듀쿠키\",\n",
      "\"bloggerlink\": \"https://blog.naver.com/miukitchen\",\n",
      "\"postdate\": \"20210704\"\n",
      "\n",
      "},\n",
      "{\n",
      "\"title\": \"대만족했던 <b>강남역</b> 고기집\",\n",
      "\"link\": \"https:\\/\\/blog.naver.com\\/smsha?Redirect=Log&logNo=222409477379\",\n",
      "\"description\": \"이날 갔던 백억하누 강남본점은 <b>강남역</b> 11번출구에서 걸어서 5분 정도 걸리더라구요. 멀리서 봐도 도심속의 정원같은 분위기로 꾸며져 있어 쉽게 눈에 띄었어요. 특히나 엄청나게 컸던 현수막으로 제일 유명한... \",\n",
      "\"bloggername\": \"뚜시와 포포의 하이파이브\",\n",
      "\"bloggerlink\": \"https://blog.naver.com/smsha\",\n",
      "\"postdate\": \"20210625\"\n",
      "\n",
      "},\n",
      "{\n",
      "\"title\": \"<b>강남역</b> 데이트 _ 마마램 feat. 냄새가 1도 없는 양고기\",\n",
      "\"link\": \"https:\\/\\/blog.naver.com\\/minahbb?Redirect=Log&logNo=222446265483\",\n",
      "\"description\": \"맞이하는 <b>강남역</b> 데이트 마마램 mama lamb 마마램은 8개월 미만의 프리미엄 양갈비만을 엄선해서... ㅠㅠ <b>강남역</b> 데이트 마마램에서 배추찜도 시켜보세요 이거 술안주 맞네 이렇게 한껏 올려서 한입에 먹습니다... \",\n",
      "\"bloggername\": \"커몬커먼\",\n",
      "\"bloggerlink\": \"https://blog.naver.com/minahbb\",\n",
      "\"postdate\": \"20210727\"\n",
      "\n",
      "}\n",
      "]\n",
      "}\n",
      "\n"
     ]
    }
   ],
   "source": [
    "if(rescode == 200):\n",
    "    response_body = response.read() # 전송된 검색 data 읽어오기\n",
    "#     print(response_body) # encoding 된 결과가 넘어옴\n",
    "    print(response_body.decode('utf-8')) # 한글 처리\n",
    "else:\n",
    "    print(\"Error Code : \", rescode)"
   ]
  },
  {
   "cell_type": "code",
   "execution_count": 10,
   "id": "90e18f87",
   "metadata": {},
   "outputs": [
    {
     "name": "stdout",
     "output_type": "stream",
     "text": [
      "Mon, 09 Aug 2021 11:00:19 +0900\n",
      "1741971\n",
      "1\n",
      "10\n"
     ]
    }
   ],
   "source": [
    "### requests 패키지 사용 - 코드를 좀 간단하게 변경(반환되는 requests의 응답객체는 json 형식으로 바로 변환이 가능)\n",
    "import requests #서버접속\n",
    "from urllib.parse import urlparse #한글처리\n",
    "import urllib.parse\n",
    "\n",
    "keyword = urllib.parse.quote(\"강남역\")\n",
    "url =\"https://openapi.naver.com/v1/search/blog?query=\"\n",
    "url_fin = url+keyword\n",
    "\n",
    "#get()안에 url과 headers를 포함 할 수 있음\n",
    "result = requests.get(url_fin,\n",
    "      headers={\"X-Naver-Client-Id\":\"aBXzLN1CfCXL9OXeyuBN\",\n",
    "               \"X-Naver-Client-Secret\":\"soqBDQxx48\"})\n",
    "\n",
    "#result.json() # 한글처리와 data 형식을 json으로 변경할 수 있음\n",
    "json_obj = result.json()\n",
    "print(json_obj[\"lastBuildDate\"])\n",
    "print(json_obj['total'])\n",
    "print(json_obj['start'])\n",
    "print(json_obj['display'])"
   ]
  },
  {
   "cell_type": "code",
   "execution_count": 12,
   "id": "10c67172",
   "metadata": {},
   "outputs": [
    {
     "data": {
      "text/plain": [
       "[{'title': '<b>강남역</b> 데이트 맛집, 마마램',\n",
       "  'link': 'https://blog.naver.com/scoroom?Redirect=Log&logNo=222456820669',\n",
       "  'description': '캠핑장에서 돌아오고 남은 몇일의 여유를 즐기를 위해서 출동했다^^ <b>강남역</b> 데이트, 마마램 서울 강남구 도산대로 62길 11 (02-543-5310) 이번 캠핑에 양고기는 준비하지 않기도 했고, 양고기는 무엇보다 방문해서... ',\n",
       "  'bloggername': 'Sweet Cozy Room',\n",
       "  'bloggerlink': 'https://blog.naver.com/scoroom',\n",
       "  'postdate': '20210804'},\n",
       " {'title': '재미가 있는 <b>강남역</b> 맛집 공유',\n",
       "  'link': 'https://blog.naver.com/jung111hee?Redirect=Log&logNo=222455247595',\n",
       "  'description': '감성타코 <b>강남역</b>점 감성그릴파히타 38000원 위치 : 서울 강남구 강남대로 406 지하1층 문의 : 02-565-8830 영업 : 11:30 - 22:00 마지막주문 21:00 제가 다녀온 감성타코는 <b>강남역</b>11번출구 바로 앞에 위치해있어요.... ',\n",
       "  'bloggername': '맛집멋집',\n",
       "  'bloggerlink': 'https://blog.naver.com/jung111hee',\n",
       "  'postdate': '20210803'},\n",
       " {'title': '<b>강남역</b> 스테이크 분위기 좋은 미도인',\n",
       "  'link': 'https://blog.naver.com/tw01554?Redirect=Log&logNo=222459401543',\n",
       "  'description': '<b>강남역</b> 스테이크 찾고 있다면 여기 어떨가 싶네용~ #<b>강남역</b>스테이크 #<b>강남역</b>대창덮밥 #<b>강남역</b>미도인 #미도인 #강남미도인 #미도인강남 #<b>강남역</b>스테이크맛집 #<b>강남역</b>대창덮밥맛집 #<b>강남역</b>가성비맛집... ',\n",
       "  'bloggername': '헨2의 daily',\n",
       "  'bloggerlink': 'https://blog.naver.com/tw01554',\n",
       "  'postdate': '20210806'},\n",
       " {'title': '재료가 좋은 삼겹살 <b>강남역</b> 고기집',\n",
       "  'link': 'https://blog.naver.com/unique1028?Redirect=Log&logNo=222411292448',\n",
       "  'description': '얼마 전 친구들과 모임 중 강남 일대에서 꽤 알아준다는 <b>강남역</b> 고기집에 다녀왔어요. 화로에 구워 육질이 우수한 돈육에 수제냉면까지, 무엇하나 부족함이 없었던 곳이랍니다. 강남구 역삼동 619-14 1층 봉우화로... ',\n",
       "  'bloggername': '줄리다이어리♥',\n",
       "  'bloggerlink': 'https://blog.naver.com/unique1028',\n",
       "  'postdate': '20210626'},\n",
       " {'title': '최고였던 <b>강남역</b> 고기집',\n",
       "  'link': 'https://blog.naver.com/aq9999qa?Redirect=Log&logNo=222406466536',\n",
       "  'description': '주소: 서울 강남구 역삼로3길 8 번호: 02-538-1588 이날 찾았던 고기집은 <b>강남역</b> 4번 출구에서 도보 5분 정도 거리에 위치해 있었는데요. 웅장한 단독건물에 상호가 크게 부착되어져 있어, 왠만해서는 못보고... ',\n",
       "  'bloggername': '황혼의엘리제',\n",
       "  'bloggerlink': 'https://blog.naver.com/aq9999qa',\n",
       "  'postdate': '20210622'},\n",
       " {'title': '인정했던 <b>강남역</b> 점심',\n",
       "  'link': 'https://blog.naver.com/sitelove?Redirect=Log&logNo=222457129201',\n",
       "  'description': '동료가 <b>강남역</b> 점심 장소로 괜찮은 특색 있는 장소를 추천해 줘서 다 같이 다녀올 수 있었어요. 저희가 점심에 방문해서 간단한 반주까지 하고 회사에 복귀하게 만들었던 식당은 반티엔야오 카오위예요. <b>강남역</b>... ',\n",
       "  'bloggername': '주관적참견시점',\n",
       "  'bloggerlink': 'https://blog.naver.com/sitelove',\n",
       "  'postdate': '20210804'},\n",
       " {'title': '극찬했던 <b>강남역</b> 돼지갈비 맛집',\n",
       "  'link': 'https://blog.naver.com/seventhday?Redirect=Log&logNo=222416694910',\n",
       "  'description': '얼마전 친구들과 저녁 약속이 있어서 검색으로 미리 알아둔 <b>강남역</b> 돼지갈비 맛집에서 식사했어요.... 강남 돼지갈비 맛집은 밖에서 구워 가져와 달라고 하면 그렇게 해주신다고 하니 참고하시면 좋을 것... ',\n",
       "  'bloggername': 'colortrip',\n",
       "  'bloggerlink': 'https://blog.naver.com/seventhday',\n",
       "  'postdate': '20210702'},\n",
       " {'title': '합격점줬던 <b>강남역</b> 고기집',\n",
       "  'link': 'https://blog.naver.com/miukitchen?Redirect=Log&logNo=222419120284',\n",
       "  'description': '이날 찾아간 강남랭겹은 <b>강남역</b> 11번 출구에서 도보로 10분이 채 걸리지 않았어요. 코너 1층에 크게 걸려있는 삼겹살 사진과 유니크한 외관이라 멀리서도 눈에 확 들어왔네요. 이곳은 인기있는 사이드 메뉴로 구성... ',\n",
       "  'bloggername': '초코퐁듀쿠키',\n",
       "  'bloggerlink': 'https://blog.naver.com/miukitchen',\n",
       "  'postdate': '20210704'},\n",
       " {'title': '대만족했던 <b>강남역</b> 고기집',\n",
       "  'link': 'https://blog.naver.com/smsha?Redirect=Log&logNo=222409477379',\n",
       "  'description': '이날 갔던 백억하누 강남본점은 <b>강남역</b> 11번출구에서 걸어서 5분 정도 걸리더라구요. 멀리서 봐도 도심속의 정원같은 분위기로 꾸며져 있어 쉽게 눈에 띄었어요. 특히나 엄청나게 컸던 현수막으로 제일 유명한... ',\n",
       "  'bloggername': '뚜시와 포포의 하이파이브',\n",
       "  'bloggerlink': 'https://blog.naver.com/smsha',\n",
       "  'postdate': '20210625'},\n",
       " {'title': '<b>강남역</b> 데이트 _ 마마램 feat. 냄새가 1도 없는 양고기',\n",
       "  'link': 'https://blog.naver.com/minahbb?Redirect=Log&logNo=222446265483',\n",
       "  'description': '맞이하는 <b>강남역</b> 데이트 마마램 mama lamb 마마램은 8개월 미만의 프리미엄 양갈비만을 엄선해서... ㅠㅠ <b>강남역</b> 데이트 마마램에서 배추찜도 시켜보세요 이거 술안주 맞네 이렇게 한껏 올려서 한입에 먹습니다... ',\n",
       "  'bloggername': '커몬커먼',\n",
       "  'bloggerlink': 'https://blog.naver.com/minahbb',\n",
       "  'postdate': '20210727'}]"
      ]
     },
     "execution_count": 12,
     "metadata": {},
     "output_type": "execute_result"
    }
   ],
   "source": [
    "## json data 추출 : dict 처럼 변수[key]\n",
    "json_obj[\"items\"]"
   ]
  },
  {
   "cell_type": "code",
   "execution_count": 13,
   "id": "d5416802",
   "metadata": {
    "scrolled": true
   },
   "outputs": [
    {
     "name": "stdout",
     "output_type": "stream",
     "text": [
      "dict_keys(['title', 'link', 'description', 'bloggername', 'bloggerlink', 'postdate'])\n",
      "dict_keys(['title', 'link', 'description', 'bloggername', 'bloggerlink', 'postdate'])\n",
      "dict_keys(['title', 'link', 'description', 'bloggername', 'bloggerlink', 'postdate'])\n",
      "dict_keys(['title', 'link', 'description', 'bloggername', 'bloggerlink', 'postdate'])\n",
      "dict_keys(['title', 'link', 'description', 'bloggername', 'bloggerlink', 'postdate'])\n",
      "dict_keys(['title', 'link', 'description', 'bloggername', 'bloggerlink', 'postdate'])\n",
      "dict_keys(['title', 'link', 'description', 'bloggername', 'bloggerlink', 'postdate'])\n",
      "dict_keys(['title', 'link', 'description', 'bloggername', 'bloggerlink', 'postdate'])\n",
      "dict_keys(['title', 'link', 'description', 'bloggername', 'bloggerlink', 'postdate'])\n",
      "dict_keys(['title', 'link', 'description', 'bloggername', 'bloggerlink', 'postdate'])\n"
     ]
    }
   ],
   "source": [
    "for item in json_obj[\"items\"]:\n",
    "    print(item.keys())"
   ]
  },
  {
   "cell_type": "code",
   "execution_count": 14,
   "id": "45a835a5",
   "metadata": {},
   "outputs": [
    {
     "name": "stdout",
     "output_type": "stream",
     "text": [
      "<b>강남역</b> 데이트 맛집, 마마램\n",
      "재미가 있는 <b>강남역</b> 맛집 공유\n",
      "<b>강남역</b> 스테이크 분위기 좋은 미도인\n",
      "재료가 좋은 삼겹살 <b>강남역</b> 고기집\n",
      "최고였던 <b>강남역</b> 고기집\n",
      "인정했던 <b>강남역</b> 점심\n",
      "극찬했던 <b>강남역</b> 돼지갈비 맛집\n",
      "합격점줬던 <b>강남역</b> 고기집\n",
      "대만족했던 <b>강남역</b> 고기집\n",
      "<b>강남역</b> 데이트 _ 마마램 feat. 냄새가 1도 없는 양고기\n"
     ]
    }
   ],
   "source": [
    "## 특정 속성값만 뽑아내기\n",
    "# 제목 추출\n",
    "for item in json_obj[\"items\"]:\n",
    "    print(item['title'])"
   ]
  },
  {
   "cell_type": "code",
   "execution_count": 15,
   "id": "e5554fdd",
   "metadata": {},
   "outputs": [
    {
     "name": "stdout",
     "output_type": "stream",
     "text": [
      "강남역 데이트 맛집, 마마램\n",
      "재미가 있는 강남역 맛집 공유\n",
      "강남역 스테이크 분위기 좋은 미도인\n",
      "재료가 좋은 삼겹살 강남역 고기집\n",
      "최고였던 강남역 고기집\n",
      "인정했던 강남역 점심\n",
      "극찬했던 강남역 돼지갈비 맛집\n",
      "합격점줬던 강남역 고기집\n",
      "대만족했던 강남역 고기집\n",
      "강남역 데이트 _ 마마램 feat. 냄새가 1도 없는 양고기\n"
     ]
    }
   ],
   "source": [
    "# 제목 추출\n",
    "# 불용어 제거\n",
    "for item in json_obj[\"items\"]:\n",
    "    print(item['title'].replace(\"<b>\",\"\").replace(\"</b>\",\"\"))"
   ]
  },
  {
   "cell_type": "code",
   "execution_count": 16,
   "id": "fbe9d16f",
   "metadata": {},
   "outputs": [],
   "source": [
    "## 검색결과를 100개로 늘리기\n",
    "keyword = \"강남역\"\n",
    "url =\"https://openapi.naver.com/v1/search/blog?query=\"\n",
    "url_fin = url + keyword + \"&display=100\"\n",
    "\n",
    "result = requests.get(url_fin,\n",
    "      headers={\"X-Naver-Client-Id\":\"aBXzLN1CfCXL9OXeyuBN\",\n",
    "               \"X-Naver-Client-Secret\":\"soqBDQxx48\"})"
   ]
  },
  {
   "cell_type": "code",
   "execution_count": 17,
   "id": "e8fb8823",
   "metadata": {},
   "outputs": [
    {
     "name": "stdout",
     "output_type": "stream",
     "text": [
      "Mon, 09 Aug 2021 11:02:36 +0900\n",
      "1741971\n",
      "1\n",
      "100\n"
     ]
    }
   ],
   "source": [
    "#result.json() # 한글처리와 data 형식을 json으로 변경할 수 있음\n",
    "json_obj = result.json()\n",
    "print(json_obj[\"lastBuildDate\"])\n",
    "print(json_obj['total'])\n",
    "print(json_obj['start'])\n",
    "print(json_obj['display'])"
   ]
  },
  {
   "cell_type": "code",
   "execution_count": 18,
   "id": "d023351f",
   "metadata": {},
   "outputs": [
    {
     "name": "stdout",
     "output_type": "stream",
     "text": [
      "강남역 데이트 맛집, 마마램\n",
      "재미가 있는 강남역 맛집 공유\n",
      "강남역 스테이크 분위기 좋은 미도인\n",
      "재료가 좋은 삼겹살 강남역 고기집\n",
      "최고였던 강남역 고기집\n",
      "인정했던 강남역 점심\n",
      "극찬했던 강남역 돼지갈비 맛집\n",
      "합격점줬던 강남역 고기집\n",
      "대만족했던 강남역 고기집\n",
      "강남역 데이트 _ 마마램 feat. 냄새가 1도 없는 양고기\n",
      "끌리는 강남역 고기집\n",
      "넘쳤던 강남역 삼겹살 공유\n",
      "넘버원이던 강남역 고기집\n",
      "손에 꼽는 # 강남역 점심\n",
      "포식하는 강남역 고기집\n",
      "매력 쩌는 강남역 삼겹살\n",
      "박수쳤던 강남역 맛집 소개\n",
      "기똥찼던 강남역 점심 맛집\n",
      "경이로웠던 강남역 고기집\n",
      "분위기 좋은 강남역 레스토랑 나폴리회관\n",
      "놀라운 강남역 점심 맛집\n",
      "자랑했던 강남역 파스타\n",
      "빠져버렸던 강남역 맛집 리스트\n",
      "강남역 필라테스 자세교정에 좋아요\n",
      "강남역 안과 라섹수술 및 가격후기!♡\n",
      "감탄했던 강남역 삼겹살\n",
      "끌리던 강남역 삼겹살\n",
      "운치있는 강남역 데이트\n",
      "강남역 데이트 양갈비 생각날 땐 마마램\n",
      "특색있던 강남역 맛집 모음\n",
      "강남역 파스타 :: 바비레드\n",
      "[신논현역 맛집] 강남역 삼겹살 잘하는 녹슨드럼통 프리미엄\n",
      "강남역마사지 KN바디앤스킨 완전 친절하고 좋음!\n",
      "인생픽이던 강남역 카페\n",
      "솜씨좋은 삼겹살 강남역 고기집\n",
      "강남역필라테스 횟수제로 자유롭게!\n",
      "완벽했던 강남역 술집 공유\n",
      "강남역 카카오프렌즈샵 노티드(Knotted):: 고소한 크림도넛의... \n",
      "매력적인 강남역 맛집 소개\n",
      "강남역 막걸리 새우전 먹으러 강남명전\n",
      "강남역 [점심/한정식/밥집] 든든하게 즐기기!!\n",
      "느낌있는 강남역 데이트\n",
      "강남역 루카831 분양가 안내\n",
      "강남역 루카831 오피스텔 소식\n",
      "강남역 강남명전 ㅣ 꿀막걸리, 치즈감자전 ♥\n",
      "특출났던 강남역 고기집\n",
      "2021년 BMW 닥터위크 무상점검 후기 (BMW 강남역서비스센터)\n",
      "반해버린 강남역 고깃집\n",
      "특별했던 강남역 이자카야\n",
      "강남역 고기집 추천, 데이트코스로 굿\n",
      "마음뺏겼던 강남역 맛집 리스트\n",
      "행복했던 강남역 데이트\n",
      "강남역 핫플 매력적인 치치\n",
      "강남역 파스타 녘 브런치 데이트\n",
      "강남역 GT대각빌딩 사무실 임대\n",
      "점심에 다 좋아할만한 강남역 식당\n",
      "강남역 소호정: 칼국수 맛집 깻잎 맛집\n",
      "강남역 루카831 잔여세대 확인하기\n",
      "독보적인 강남역 데이트\n",
      "실감났던 강남역 술집 모음\n",
      "놀랄만한 강남역 이자카야\n",
      "강남역인앤인 오피스텔 월세\n",
      "[강남역/강남역맛집]중식당 표량 와인앤다인 콜키지프리\n",
      "강남역 점심 맛집 카츠8 돈가스\n",
      "[강남역 맛집] 홍콩느낌 가득한 구구당\n",
      "강남역도수치료 잘하는 곳에서\n",
      "강남역 신분당선 맛집 런치스페셜\n",
      "[강남 곱] 역삼동/강남역 - 이 동네 인기있는 곱창집\n",
      "강남역 카츠하나- 합리적인 가격의 일본식 돈까스\n",
      "입소문난 강남역 파스타\n",
      "재방문 맛집 강남역 고기집\n",
      "강남역카페/디저트 포장: 타르타르 선물추천\n",
      "강남역 놀거리 일상비일상의 틈, 라인프렌즈스토어 등\n",
      "강남역 돈가스 맛집 카츠8\n",
      "감탄한 강남역 술집 칸지\n",
      "평일의 강남역 걷기\n",
      "강남역 미용실 준오헤어 화이트점 펌 했음.\n",
      "성공률 높은 강남역 헌팅포차\n",
      "강남역 피자 맛집 나폴리회관 인생화덕피자\n",
      "강남역 맛집 :: 친절한서비... (Ugly Stove) 강남역점\n",
      "강남역 와인바 콜키지프리 여기가 핫플\n",
      "강남역 감성타코 + 카페 평화다방\n",
      "강남역 내돈내산 멕시칸 맛집 낙원타코 파히타\n",
      "[에그슬럿] 강남역점에서 랍스터아보카도 버거와 슬럿\n",
      "[강남역맛집추천] 치즈가 듬뿍 장인닭갈비\n",
      "강남역 월남쌈 르사이공 강남점\n",
      "강남역 오피스텔 이즈타워\n",
      "라희 데일리룩 : 강남역에 제모하러 가는 날 패션\n",
      "#솔라티움시티                     #강남역오피스텔\n",
      "&lt;더막창스&gt; 강남역 막창\n",
      "강남역 마카롱 맛집, 신데렐라롱 강남\n",
      "샤브샤브 &lt;두물머리 연꽃마을&gt;, 샐러드 &lt;샐러디 강남역점&gt;\n",
      "[강남,역삼동,강남역/걸신맛집] 치토스 오마카세! 꼭... \n",
      "[강남역 맛집/강남역 데이트] 성신식당 (감탄성신) : 후토마끼가... \n",
      "강남역 노티드\n",
      "배우 이민호 생일 축하 강남역 미디어월\n",
      "강남역 디저트 카페 맛집 카페블라썸\n",
      "강남역 맛집/강남역 브런치 :: 에그슬럿 3호점(eggslut)\n",
      "강남역 밥집 : 배고파서 찾아간 식당 맹모삼천지교...\n",
      "강남역 맛집 / 스폰티니 - 혼자 즐기기 좋은 피자\n"
     ]
    }
   ],
   "source": [
    "for item in json_obj[\"items\"]:\n",
    "    print(item['title'].replace(\"<b>\",\"\").replace(\"</b>\",\"\"))"
   ]
  },
  {
   "cell_type": "code",
   "execution_count": null,
   "id": "473365bf",
   "metadata": {},
   "outputs": [],
   "source": [
    "## 연습문제\n",
    "## 원하는 검색어를 설정한 후\n",
    "## 글제목, 설명, 세부링크, 블로거명, 블로그 주소, 생성날짜를 추출해서 df로 저장\n",
    "## 200개 data를 저장해볼 것"
   ]
  },
  {
   "cell_type": "code",
   "execution_count": 19,
   "id": "d0d6cb45",
   "metadata": {},
   "outputs": [],
   "source": [
    "keyword = urllib.parse.quote(\"비트코인\")\n",
    "url =\"https://openapi.naver.com/v1/search/blog?query=\"\n",
    "url_1 = url + keyword + \"&display=100&start=\""
   ]
  },
  {
   "cell_type": "code",
   "execution_count": 20,
   "id": "dd9f4f47",
   "metadata": {},
   "outputs": [],
   "source": [
    "import pandas as pd\n",
    "search_df = pd.DataFrame()"
   ]
  },
  {
   "cell_type": "code",
   "execution_count": 26,
   "id": "643057d5",
   "metadata": {},
   "outputs": [
    {
     "name": "stdout",
     "output_type": "stream",
     "text": [
      "Mon, 09 Aug 2021 11:21:58 +0900\n",
      "772952\n",
      "1\n",
      "100\n",
      "Mon, 09 Aug 2021 11:21:59 +0900\n",
      "772952\n",
      "101\n",
      "100\n"
     ]
    }
   ],
   "source": [
    "for i in range(2):\n",
    "    start = i*100 +1\n",
    "    url_fin = url_1 + str(start)\n",
    "#     print(url_fin)\n",
    "\n",
    "    result = requests.get(url_fin,\n",
    "    headers={\"X-Naver-Client-Id\":\"aBXzLN1CfCXL9OXeyuBN\",\n",
    "                   \"X-Naver-Client-Secret\":\"soqBDQxx48\"})\n",
    "\n",
    "    json_obj = result.json()\n",
    "    print(json_obj[\"lastBuildDate\"])\n",
    "    print(json_obj['total'])\n",
    "    print(json_obj['start'])\n",
    "    print(json_obj['display'])\n",
    "    \n",
    "    for item in json_obj[\"items\"] :\n",
    "        item_dict = {}\n",
    "        item_dict[\"title\"] = item['title'].replace(\"<b>\",\"\").replace(\"</b>\",\"\")\n",
    "        item_dict[\"link\"] = item['link']\n",
    "        item_dict[\"description\"] = item['description'].replace(\"<b>\",\"\").replace(\"</b>\",\"\")\n",
    "        item_dict[\"bloggername\"] = item['bloggername'].replace(\"<b>\",\"\").replace(\"</b>\",\"\")\n",
    "        item_dict[\"bloggerlink\"] = item['bloggerlink']\n",
    "        item_dict[\"p_Date\"] = item[\"postdate\"]\n",
    "        search_df = search_df.append(item_dict,ignore_index=True)"
   ]
  },
  {
   "cell_type": "code",
   "execution_count": 27,
   "id": "cf5cb5f9",
   "metadata": {},
   "outputs": [
    {
     "data": {
      "text/html": [
       "<div>\n",
       "<style scoped>\n",
       "    .dataframe tbody tr th:only-of-type {\n",
       "        vertical-align: middle;\n",
       "    }\n",
       "\n",
       "    .dataframe tbody tr th {\n",
       "        vertical-align: top;\n",
       "    }\n",
       "\n",
       "    .dataframe thead th {\n",
       "        text-align: right;\n",
       "    }\n",
       "</style>\n",
       "<table border=\"1\" class=\"dataframe\">\n",
       "  <thead>\n",
       "    <tr style=\"text-align: right;\">\n",
       "      <th></th>\n",
       "      <th>bloggerlink</th>\n",
       "      <th>bloggername</th>\n",
       "      <th>description</th>\n",
       "      <th>link</th>\n",
       "      <th>p_Date</th>\n",
       "      <th>title</th>\n",
       "    </tr>\n",
       "  </thead>\n",
       "  <tbody>\n",
       "    <tr>\n",
       "      <th>0</th>\n",
       "      <td>https://blog.naver.com/leedoma</td>\n",
       "      <td>도마대사 블로그</td>\n",
       "      <td>심적으로도 굉장히 힘들고 체력적으로도 힘들어서 이대론 안되겠다 싶어 쉽게 할 수 있...</td>\n",
       "      <td>https://blog.naver.com/leedoma?Redirect=Log&amp;lo...</td>\n",
       "      <td>20210731</td>\n",
       "      <td>비트코인 마진거래 확인해보니</td>\n",
       "    </tr>\n",
       "    <tr>\n",
       "      <th>1</th>\n",
       "      <td>https://blog.naver.com/mollyoo</td>\n",
       "      <td>어제보다 더 행복한 오늘 :)</td>\n",
       "      <td>&amp;gt;&amp;gt; 바이비트 거래소 수수료 할인받기 &amp;lt;&amp;lt; &amp;gt;&amp;gt; 바...</td>\n",
       "      <td>https://blog.naver.com/mollyoo?Redirect=Log&amp;lo...</td>\n",
       "      <td>20210805</td>\n",
       "      <td>비트코인 마진거래 할인까지</td>\n",
       "    </tr>\n",
       "    <tr>\n",
       "      <th>2</th>\n",
       "      <td>https://blog.naver.com/llbohyunll</td>\n",
       "      <td>초코발사탕의 재테크+</td>\n",
       "      <td>게리 겐슬러 SEC 의장, 비트코인 ETF 승인할까? 최근 발표된 코인데스크의 보도...</td>\n",
       "      <td>https://blog.naver.com/llbohyunll?Redirect=Log...</td>\n",
       "      <td>20210807</td>\n",
       "      <td>암호화폐 뉴스 - 비트코인ETF, 미국 암호화폐 세금, 이더리움...</td>\n",
       "    </tr>\n",
       "    <tr>\n",
       "      <th>3</th>\n",
       "      <td>https://blog.naver.com/lgmbcjh2</td>\n",
       "      <td>행복한 가족 이야기~^^♡</td>\n",
       "      <td>아이들 적금식으로 월 20만 원씩 비트코인 적립식 투자.(21년 1월부터 시작) 통...</td>\n",
       "      <td>https://blog.naver.com/lgmbcjh2?Redirect=Log&amp;l...</td>\n",
       "      <td>20210808</td>\n",
       "      <td>21년 8월 8일 주식, 비트코인, 이더리움, 금, 은 투자 현황</td>\n",
       "    </tr>\n",
       "    <tr>\n",
       "      <th>4</th>\n",
       "      <td>https://blog.naver.com/gmlwo0216</td>\n",
       "      <td>분양 이모저모</td>\n",
       "      <td>비트코인 개인회생 소명에 노하우가 있어야 현 정부 들어 20차례가 넘는 부동산 대책...</td>\n",
       "      <td>https://blog.naver.com/gmlwo0216?Redirect=Log&amp;...</td>\n",
       "      <td>20210801</td>\n",
       "      <td>비트코인 개인회생 소명에 노하우가 있어야</td>\n",
       "    </tr>\n",
       "    <tr>\n",
       "      <th>...</th>\n",
       "      <td>...</td>\n",
       "      <td>...</td>\n",
       "      <td>...</td>\n",
       "      <td>...</td>\n",
       "      <td>...</td>\n",
       "      <td>...</td>\n",
       "    </tr>\n",
       "    <tr>\n",
       "      <th>195</th>\n",
       "      <td>https://blog.naver.com/sirabon</td>\n",
       "      <td>투자와 플러스흐름</td>\n",
       "      <td>비트코인 전망, 삼성전자 주식 결국 100억 차이나는 이유 러시아는 그 수많은 천연...</td>\n",
       "      <td>https://blog.naver.com/sirabon?Redirect=Log&amp;lo...</td>\n",
       "      <td>20210623</td>\n",
       "      <td>비트코인 전망 투자자, 삼성전자 주식 투자자, 차이 100억...</td>\n",
       "    </tr>\n",
       "    <tr>\n",
       "      <th>196</th>\n",
       "      <td>https://blog.naver.com/gmlwo0216</td>\n",
       "      <td>분양 이모저모</td>\n",
       "      <td>비트코인 개인회생 도박 사행성 사유 인용받으려면 정부에서 지난 2004년부터 법적으...</td>\n",
       "      <td>https://blog.naver.com/gmlwo0216?Redirect=Log&amp;...</td>\n",
       "      <td>20210608</td>\n",
       "      <td>비트코인 개인회생 도박 사행성 사유 인용받으려면</td>\n",
       "    </tr>\n",
       "    <tr>\n",
       "      <th>197</th>\n",
       "      <td>https://blog.naver.com/alswl09100</td>\n",
       "      <td>재테크하는 제인</td>\n",
       "      <td>오늘은 비트코인 하는법에 대해서 자세히 기초부터 알려드리려고 합니다. 최근 폭락장이...</td>\n",
       "      <td>https://blog.naver.com/alswl09100?Redirect=Log...</td>\n",
       "      <td>20210604</td>\n",
       "      <td>비트코인 하는법 : 가상화폐 거래소, 계좌개설, 매수</td>\n",
       "    </tr>\n",
       "    <tr>\n",
       "      <th>198</th>\n",
       "      <td>https://blog.naver.com/wildparking</td>\n",
       "      <td>황금알을 낳는 통찰</td>\n",
       "      <td>비트코인 도미넌스나 비트코인 해시레이트가 중요하게 여겨지는 이유도 다 여기에 있다....</td>\n",
       "      <td>https://blog.naver.com/wildparking?Redirect=Lo...</td>\n",
       "      <td>20210722</td>\n",
       "      <td>도지코인 시세 일론머스크와 비트코인에 달렸다.</td>\n",
       "    </tr>\n",
       "    <tr>\n",
       "      <th>199</th>\n",
       "      <td>https://blog.naver.com/sirabon</td>\n",
       "      <td>투자와 플러스흐름</td>\n",
       "      <td>비트코인 5분봉 3틱보다 쉬운 피보나치 15분 패턴 피보나치 되돌림은 차트의 미래움...</td>\n",
       "      <td>https://blog.naver.com/sirabon?Redirect=Log&amp;lo...</td>\n",
       "      <td>20210704</td>\n",
       "      <td>비트코인 5분봉 3틱보다 쉬운 피보나치 15분 패턴</td>\n",
       "    </tr>\n",
       "  </tbody>\n",
       "</table>\n",
       "<p>200 rows × 6 columns</p>\n",
       "</div>"
      ],
      "text/plain": [
       "                            bloggerlink       bloggername  \\\n",
       "0        https://blog.naver.com/leedoma          도마대사 블로그   \n",
       "1        https://blog.naver.com/mollyoo  어제보다 더 행복한 오늘 :)   \n",
       "2     https://blog.naver.com/llbohyunll       초코발사탕의 재테크+   \n",
       "3       https://blog.naver.com/lgmbcjh2    행복한 가족 이야기~^^♡   \n",
       "4      https://blog.naver.com/gmlwo0216           분양 이모저모   \n",
       "..                                  ...               ...   \n",
       "195      https://blog.naver.com/sirabon         투자와 플러스흐름   \n",
       "196    https://blog.naver.com/gmlwo0216           분양 이모저모   \n",
       "197   https://blog.naver.com/alswl09100          재테크하는 제인   \n",
       "198  https://blog.naver.com/wildparking        황금알을 낳는 통찰   \n",
       "199      https://blog.naver.com/sirabon         투자와 플러스흐름   \n",
       "\n",
       "                                           description  \\\n",
       "0    심적으로도 굉장히 힘들고 체력적으로도 힘들어서 이대론 안되겠다 싶어 쉽게 할 수 있...   \n",
       "1    &gt;&gt; 바이비트 거래소 수수료 할인받기 &lt;&lt; &gt;&gt; 바...   \n",
       "2    게리 겐슬러 SEC 의장, 비트코인 ETF 승인할까? 최근 발표된 코인데스크의 보도...   \n",
       "3    아이들 적금식으로 월 20만 원씩 비트코인 적립식 투자.(21년 1월부터 시작) 통...   \n",
       "4    비트코인 개인회생 소명에 노하우가 있어야 현 정부 들어 20차례가 넘는 부동산 대책...   \n",
       "..                                                 ...   \n",
       "195  비트코인 전망, 삼성전자 주식 결국 100억 차이나는 이유 러시아는 그 수많은 천연...   \n",
       "196  비트코인 개인회생 도박 사행성 사유 인용받으려면 정부에서 지난 2004년부터 법적으...   \n",
       "197  오늘은 비트코인 하는법에 대해서 자세히 기초부터 알려드리려고 합니다. 최근 폭락장이...   \n",
       "198  비트코인 도미넌스나 비트코인 해시레이트가 중요하게 여겨지는 이유도 다 여기에 있다....   \n",
       "199  비트코인 5분봉 3틱보다 쉬운 피보나치 15분 패턴 피보나치 되돌림은 차트의 미래움...   \n",
       "\n",
       "                                                  link    p_Date  \\\n",
       "0    https://blog.naver.com/leedoma?Redirect=Log&lo...  20210731   \n",
       "1    https://blog.naver.com/mollyoo?Redirect=Log&lo...  20210805   \n",
       "2    https://blog.naver.com/llbohyunll?Redirect=Log...  20210807   \n",
       "3    https://blog.naver.com/lgmbcjh2?Redirect=Log&l...  20210808   \n",
       "4    https://blog.naver.com/gmlwo0216?Redirect=Log&...  20210801   \n",
       "..                                                 ...       ...   \n",
       "195  https://blog.naver.com/sirabon?Redirect=Log&lo...  20210623   \n",
       "196  https://blog.naver.com/gmlwo0216?Redirect=Log&...  20210608   \n",
       "197  https://blog.naver.com/alswl09100?Redirect=Log...  20210604   \n",
       "198  https://blog.naver.com/wildparking?Redirect=Lo...  20210722   \n",
       "199  https://blog.naver.com/sirabon?Redirect=Log&lo...  20210704   \n",
       "\n",
       "                                       title  \n",
       "0                            비트코인 마진거래 확인해보니  \n",
       "1                             비트코인 마진거래 할인까지  \n",
       "2    암호화폐 뉴스 - 비트코인ETF, 미국 암호화폐 세금, 이더리움...   \n",
       "3       21년 8월 8일 주식, 비트코인, 이더리움, 금, 은 투자 현황  \n",
       "4                     비트코인 개인회생 소명에 노하우가 있어야  \n",
       "..                                       ...  \n",
       "195    비트코인 전망 투자자, 삼성전자 주식 투자자, 차이 100억...   \n",
       "196               비트코인 개인회생 도박 사행성 사유 인용받으려면  \n",
       "197            비트코인 하는법 : 가상화폐 거래소, 계좌개설, 매수  \n",
       "198                도지코인 시세 일론머스크와 비트코인에 달렸다.  \n",
       "199             비트코인 5분봉 3틱보다 쉬운 피보나치 15분 패턴  \n",
       "\n",
       "[200 rows x 6 columns]"
      ]
     },
     "execution_count": 27,
     "metadata": {},
     "output_type": "execute_result"
    }
   ],
   "source": [
    "search_df"
   ]
  },
  {
   "cell_type": "code",
   "execution_count": null,
   "id": "ab7710bd",
   "metadata": {},
   "outputs": [],
   "source": []
  },
  {
   "cell_type": "code",
   "execution_count": null,
   "id": "f0a4560c",
   "metadata": {},
   "outputs": [],
   "source": []
  },
  {
   "cell_type": "code",
   "execution_count": null,
   "id": "836b144b",
   "metadata": {},
   "outputs": [],
   "source": []
  },
  {
   "cell_type": "code",
   "execution_count": null,
   "id": "025df475",
   "metadata": {},
   "outputs": [],
   "source": [
    "client_id = 'aBXzLN1CfCXL9OXeyuBN'\n",
    "client_secret = 'soqBDQxx48'"
   ]
  }
 ],
 "metadata": {
  "kernelspec": {
   "display_name": "Python 3",
   "language": "python",
   "name": "python3"
  },
  "language_info": {
   "codemirror_mode": {
    "name": "ipython",
    "version": 3
   },
   "file_extension": ".py",
   "mimetype": "text/x-python",
   "name": "python",
   "nbconvert_exporter": "python",
   "pygments_lexer": "ipython3",
   "version": "3.8.8"
  }
 },
 "nbformat": 4,
 "nbformat_minor": 5
}
